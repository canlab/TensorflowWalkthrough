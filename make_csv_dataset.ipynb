{
 "cells": [
  {
   "cell_type": "code",
   "execution_count": 1,
   "metadata": {},
   "outputs": [],
   "source": [
    "from __future__ import absolute_import, division, print_function, unicode_literals\n",
    "\n",
    "import numpy as np\n",
    "import tensorflow as tf\n",
    "import os"
   ]
  },
  {
   "cell_type": "code",
   "execution_count": 2,
   "metadata": {},
   "outputs": [],
   "source": [
    "!pip install -q tensorflow==2.0.0-alpha0"
   ]
  },
  {
   "cell_type": "code",
   "execution_count": 3,
   "metadata": {},
   "outputs": [],
   "source": [
    "import re\n",
    "def sorted_alphanumeric(data):\n",
    "    convert = lambda text: int(text) if text.isdigit() else text.lower()\n",
    "    alphanum_key = lambda key: [ convert(c) for c in re.split('([0-9]+)', key) ] \n",
    "    return sorted(data, key=alphanum_key)"
   ]
  },
  {
   "cell_type": "code",
   "execution_count": 4,
   "metadata": {},
   "outputs": [
    {
     "data": {
      "text/plain": [
       "'/home/clayton/science/CANlab/WAViMedEEGScripts/PainStudyFiles/csv'"
      ]
     },
     "execution_count": 4,
     "metadata": {},
     "output_type": "execute_result"
    }
   ],
   "source": [
    "os.chdir('../science/CANlab/WAViMedEEGScripts/PainStudyFiles/csv')\n",
    "#os.listdir()\n",
    "os.getcwd() #'../science/CANlab/WAViMedEEGScripts/PainStudyFiles/csv/'"
   ]
  },
  {
   "cell_type": "code",
   "execution_count": 6,
   "metadata": {},
   "outputs": [],
   "source": [
    "# list of csv files to be loaded are those in the current directory\n",
    "filenames=sorted_alphanumeric(os.listdir())\n",
    "n=len(filenames)"
   ]
  },
  {
   "cell_type": "code",
   "execution_count": 7,
   "metadata": {},
   "outputs": [
    {
     "data": {
      "text/plain": [
       "<PrefetchDataset shapes: (OrderedDict([(C1, (64,)), (C2, (64,)), (C3, (64,)), (C4, (64,)), (C5, (64,)), (C6, (64,)), (C7, (64,)), (C8, (64,)), (C9, (64,)), (C10, (64,)), (C11, (64,)), (C12, (64,)), (C13, (64,)), (C14, (64,)), (C15, (64,)), (C16, (64,)), (C17, (64,)), (C18, (64,)), (C19, (64,))]), (64,)), types: (OrderedDict([(C1, tf.int32), (C2, tf.int32), (C3, tf.int32), (C4, tf.int32), (C5, tf.int32), (C6, tf.int32), (C7, tf.int32), (C8, tf.int32), (C9, tf.int32), (C10, tf.int32), (C11, tf.int32), (C12, tf.int32), (C13, tf.int32), (C14, tf.int32), (C15, tf.int32), (C16, tf.int32), (C17, tf.int32), (C18, tf.int32), (C19, tf.int32)]), tf.int32)>"
      ]
     },
     "execution_count": 7,
     "metadata": {},
     "output_type": "execute_result"
    }
   ],
   "source": [
    "tf.data.experimental.make_csv_dataset(\n",
    "    filenames,\n",
    "    64,\n",
    "    column_names=['group','C1','C2','C3','C4','C5','C6','C7','C8','C9','C10','C11','C12','C13','C14','C15','C16','C17','C18','C19'],\n",
    "    column_defaults=None,\n",
    "    label_name='group',\n",
    "    select_columns=None,\n",
    "    field_delim=',',\n",
    "    use_quote_delim=True,\n",
    "    na_value='',\n",
    "    header=False,\n",
    "    num_epochs=None,\n",
    "    shuffle=True,\n",
    "    shuffle_buffer_size=10000,\n",
    "    shuffle_seed=None,\n",
    "    prefetch_buffer_size=tf.data.experimental.AUTOTUNE,\n",
    "    num_parallel_reads=12,\n",
    "    sloppy=False,\n",
    "    num_rows_for_inference=100,\n",
    "    compression_type=\"\"\n",
    ")"
   ]
  },
  {
   "cell_type": "code",
   "execution_count": null,
   "metadata": {},
   "outputs": [],
   "source": []
  }
 ],
 "metadata": {
  "kernelspec": {
   "display_name": "Python 3",
   "language": "python",
   "name": "python3"
  },
  "language_info": {
   "codemirror_mode": {
    "name": "ipython",
    "version": 3
   },
   "file_extension": ".py",
   "mimetype": "text/x-python",
   "name": "python",
   "nbconvert_exporter": "python",
   "pygments_lexer": "ipython3",
   "version": "3.7.3"
  }
 },
 "nbformat": 4,
 "nbformat_minor": 2
}
